{
  "nbformat": 4,
  "nbformat_minor": 0,
  "metadata": {
    "colab": {
      "provenance": []
    },
    "kernelspec": {
      "name": "python3",
      "display_name": "Python 3"
    },
    "language_info": {
      "name": "python"
    }
  },
  "cells": [
    {
      "cell_type": "code",
      "execution_count": 1,
      "metadata": {
        "id": "GUMldeDbiwvo"
      },
      "outputs": [],
      "source": [
        "import numpy as np\n",
        "import pandas as pd\n",
        "import matplotlib.pyplot as plt\n",
        "from sklearn.linear_model import LinearRegression"
      ]
    },
    {
      "cell_type": "code",
      "source": [
        "df= pd.read_csv(\"https://raw.githubusercontent.com/Rising-Stars-by-Sunshine/stats201-Eddie-PS-2/main/data/Queried_Data/co2_mm_mlo.csv\")\n",
        "df.head()"
      ],
      "metadata": {
        "colab": {
          "base_uri": "https://localhost:8080/",
          "height": 206
        },
        "id": "FAFwbhoRi1BT",
        "outputId": "079b3831-3e84-40e7-84d3-76b51b406914"
      },
      "execution_count": 2,
      "outputs": [
        {
          "output_type": "execute_result",
          "data": {
            "text/plain": [
              "   year  month  decimal date  average  deseasonalized  ndays  sdev   unc\n",
              "0  1958      3     1958.2027   315.70          314.43     -1 -9.99 -0.99\n",
              "1  1958      4     1958.2877   317.45          315.16     -1 -9.99 -0.99\n",
              "2  1958      5     1958.3699   317.51          314.71     -1 -9.99 -0.99\n",
              "3  1958      6     1958.4548   317.24          315.14     -1 -9.99 -0.99\n",
              "4  1958      7     1958.5370   315.86          315.18     -1 -9.99 -0.99"
            ],
            "text/html": [
              "\n",
              "  <div id=\"df-cbd3d922-4a67-40a0-ae53-0fef6e90f609\">\n",
              "    <div class=\"colab-df-container\">\n",
              "      <div>\n",
              "<style scoped>\n",
              "    .dataframe tbody tr th:only-of-type {\n",
              "        vertical-align: middle;\n",
              "    }\n",
              "\n",
              "    .dataframe tbody tr th {\n",
              "        vertical-align: top;\n",
              "    }\n",
              "\n",
              "    .dataframe thead th {\n",
              "        text-align: right;\n",
              "    }\n",
              "</style>\n",
              "<table border=\"1\" class=\"dataframe\">\n",
              "  <thead>\n",
              "    <tr style=\"text-align: right;\">\n",
              "      <th></th>\n",
              "      <th>year</th>\n",
              "      <th>month</th>\n",
              "      <th>decimal date</th>\n",
              "      <th>average</th>\n",
              "      <th>deseasonalized</th>\n",
              "      <th>ndays</th>\n",
              "      <th>sdev</th>\n",
              "      <th>unc</th>\n",
              "    </tr>\n",
              "  </thead>\n",
              "  <tbody>\n",
              "    <tr>\n",
              "      <th>0</th>\n",
              "      <td>1958</td>\n",
              "      <td>3</td>\n",
              "      <td>1958.2027</td>\n",
              "      <td>315.70</td>\n",
              "      <td>314.43</td>\n",
              "      <td>-1</td>\n",
              "      <td>-9.99</td>\n",
              "      <td>-0.99</td>\n",
              "    </tr>\n",
              "    <tr>\n",
              "      <th>1</th>\n",
              "      <td>1958</td>\n",
              "      <td>4</td>\n",
              "      <td>1958.2877</td>\n",
              "      <td>317.45</td>\n",
              "      <td>315.16</td>\n",
              "      <td>-1</td>\n",
              "      <td>-9.99</td>\n",
              "      <td>-0.99</td>\n",
              "    </tr>\n",
              "    <tr>\n",
              "      <th>2</th>\n",
              "      <td>1958</td>\n",
              "      <td>5</td>\n",
              "      <td>1958.3699</td>\n",
              "      <td>317.51</td>\n",
              "      <td>314.71</td>\n",
              "      <td>-1</td>\n",
              "      <td>-9.99</td>\n",
              "      <td>-0.99</td>\n",
              "    </tr>\n",
              "    <tr>\n",
              "      <th>3</th>\n",
              "      <td>1958</td>\n",
              "      <td>6</td>\n",
              "      <td>1958.4548</td>\n",
              "      <td>317.24</td>\n",
              "      <td>315.14</td>\n",
              "      <td>-1</td>\n",
              "      <td>-9.99</td>\n",
              "      <td>-0.99</td>\n",
              "    </tr>\n",
              "    <tr>\n",
              "      <th>4</th>\n",
              "      <td>1958</td>\n",
              "      <td>7</td>\n",
              "      <td>1958.5370</td>\n",
              "      <td>315.86</td>\n",
              "      <td>315.18</td>\n",
              "      <td>-1</td>\n",
              "      <td>-9.99</td>\n",
              "      <td>-0.99</td>\n",
              "    </tr>\n",
              "  </tbody>\n",
              "</table>\n",
              "</div>\n",
              "      <button class=\"colab-df-convert\" onclick=\"convertToInteractive('df-cbd3d922-4a67-40a0-ae53-0fef6e90f609')\"\n",
              "              title=\"Convert this dataframe to an interactive table.\"\n",
              "              style=\"display:none;\">\n",
              "        \n",
              "  <svg xmlns=\"http://www.w3.org/2000/svg\" height=\"24px\"viewBox=\"0 0 24 24\"\n",
              "       width=\"24px\">\n",
              "    <path d=\"M0 0h24v24H0V0z\" fill=\"none\"/>\n",
              "    <path d=\"M18.56 5.44l.94 2.06.94-2.06 2.06-.94-2.06-.94-.94-2.06-.94 2.06-2.06.94zm-11 1L8.5 8.5l.94-2.06 2.06-.94-2.06-.94L8.5 2.5l-.94 2.06-2.06.94zm10 10l.94 2.06.94-2.06 2.06-.94-2.06-.94-.94-2.06-.94 2.06-2.06.94z\"/><path d=\"M17.41 7.96l-1.37-1.37c-.4-.4-.92-.59-1.43-.59-.52 0-1.04.2-1.43.59L10.3 9.45l-7.72 7.72c-.78.78-.78 2.05 0 2.83L4 21.41c.39.39.9.59 1.41.59.51 0 1.02-.2 1.41-.59l7.78-7.78 2.81-2.81c.8-.78.8-2.07 0-2.86zM5.41 20L4 18.59l7.72-7.72 1.47 1.35L5.41 20z\"/>\n",
              "  </svg>\n",
              "      </button>\n",
              "      \n",
              "  <style>\n",
              "    .colab-df-container {\n",
              "      display:flex;\n",
              "      flex-wrap:wrap;\n",
              "      gap: 12px;\n",
              "    }\n",
              "\n",
              "    .colab-df-convert {\n",
              "      background-color: #E8F0FE;\n",
              "      border: none;\n",
              "      border-radius: 50%;\n",
              "      cursor: pointer;\n",
              "      display: none;\n",
              "      fill: #1967D2;\n",
              "      height: 32px;\n",
              "      padding: 0 0 0 0;\n",
              "      width: 32px;\n",
              "    }\n",
              "\n",
              "    .colab-df-convert:hover {\n",
              "      background-color: #E2EBFA;\n",
              "      box-shadow: 0px 1px 2px rgba(60, 64, 67, 0.3), 0px 1px 3px 1px rgba(60, 64, 67, 0.15);\n",
              "      fill: #174EA6;\n",
              "    }\n",
              "\n",
              "    [theme=dark] .colab-df-convert {\n",
              "      background-color: #3B4455;\n",
              "      fill: #D2E3FC;\n",
              "    }\n",
              "\n",
              "    [theme=dark] .colab-df-convert:hover {\n",
              "      background-color: #434B5C;\n",
              "      box-shadow: 0px 1px 3px 1px rgba(0, 0, 0, 0.15);\n",
              "      filter: drop-shadow(0px 1px 2px rgba(0, 0, 0, 0.3));\n",
              "      fill: #FFFFFF;\n",
              "    }\n",
              "  </style>\n",
              "\n",
              "      <script>\n",
              "        const buttonEl =\n",
              "          document.querySelector('#df-cbd3d922-4a67-40a0-ae53-0fef6e90f609 button.colab-df-convert');\n",
              "        buttonEl.style.display =\n",
              "          google.colab.kernel.accessAllowed ? 'block' : 'none';\n",
              "\n",
              "        async function convertToInteractive(key) {\n",
              "          const element = document.querySelector('#df-cbd3d922-4a67-40a0-ae53-0fef6e90f609');\n",
              "          const dataTable =\n",
              "            await google.colab.kernel.invokeFunction('convertToInteractive',\n",
              "                                                     [key], {});\n",
              "          if (!dataTable) return;\n",
              "\n",
              "          const docLinkHtml = 'Like what you see? Visit the ' +\n",
              "            '<a target=\"_blank\" href=https://colab.research.google.com/notebooks/data_table.ipynb>data table notebook</a>'\n",
              "            + ' to learn more about interactive tables.';\n",
              "          element.innerHTML = '';\n",
              "          dataTable['output_type'] = 'display_data';\n",
              "          await google.colab.output.renderOutput(dataTable, element);\n",
              "          const docLink = document.createElement('div');\n",
              "          docLink.innerHTML = docLinkHtml;\n",
              "          element.appendChild(docLink);\n",
              "        }\n",
              "      </script>\n",
              "    </div>\n",
              "  </div>\n",
              "  "
            ]
          },
          "metadata": {},
          "execution_count": 2
        }
      ]
    },
    {
      "cell_type": "code",
      "source": [
        "df['months after March 1958'] = range(0, len(df))"
      ],
      "metadata": {
        "id": "jX-m34Jgj6d3"
      },
      "execution_count": 3,
      "outputs": []
    },
    {
      "cell_type": "code",
      "source": [
        "cutoff = 333\n",
        "control = df[df['months after March 1958'] < 333]\n",
        "treatment = df[df['months after March 1958'] >= 333]"
      ],
      "metadata": {
        "id": "iv6ZDuFYi53z"
      },
      "execution_count": 4,
      "outputs": []
    },
    {
      "cell_type": "code",
      "source": [
        "control_params = np.polyfit(control['average'], control['months after March 1958'], 1)\n",
        "treatment_params = np.polyfit(treatment['average'], treatment['months after March 1958'], 1)"
      ],
      "metadata": {
        "id": "Tcbm7XPikvAb"
      },
      "execution_count": 5,
      "outputs": []
    },
    {
      "cell_type": "markdown",
      "source": [
        "# Linear Plotting"
      ],
      "metadata": {
        "id": "Qzw2ERIGo-gx"
      }
    },
    {
      "cell_type": "code",
      "source": [
        "fig, ax = plt.subplots()\n",
        "\n",
        "# Plot the data as a line\n",
        "ax.plot( df['months after March 1958'],df['deseasonalized'])\n",
        "\n",
        "# Add labels and a title\n",
        "ax.set_xlabel('months after March 1958')\n",
        "ax.set_ylabel('average')\n",
        "ax.set_title('Linear Plot')\n",
        "plt.axvline(x=cutoff, color='black', linestyle='--')\n",
        "\n",
        "# Show the plot\n",
        "plt.show()"
      ],
      "metadata": {
        "colab": {
          "base_uri": "https://localhost:8080/",
          "height": 295
        },
        "id": "A7xHVn20pBRN",
        "outputId": "6cff5d6f-0aca-45e8-e86c-332fd8aae1ee"
      },
      "execution_count": 6,
      "outputs": [
        {
          "output_type": "display_data",
          "data": {
            "text/plain": [
              "<Figure size 432x288 with 1 Axes>"
            ],
            "image/png": "[encoded data removed]"
          },
          "metadata": {
            "needs_background": "light"
          }
        }
      ]
    },
    {
      "cell_type": "code",
      "source": [
        "df1 = df.loc[df['months after March 1958'] ]\n",
        "df2 = df.loc[df['months after March 1958'] > cutoff]\n",
        "df3 = df.loc[df['months after March 1958'] <= cutoff ]\n",
        "\n",
        "# Fit a linear regression model to each group of data\n",
        "model1 = LinearRegression().fit(df1[['months after March 1958']], df1['deseasonalized'])\n",
        "model2 = LinearRegression().fit(df2[['months after March 1958']], df2['deseasonalized'])\n",
        "model3 = LinearRegression().fit(df3[['months after March 1958']], df3['deseasonalized'])\n",
        "\n",
        "# Calculate the predicted values for each group of data\n",
        "df1['Y_pred'] = model1.predict(df1[['months after March 1958']])\n",
        "df2['Y_pred'] = model2.predict(df2[['months after March 1958']])\n",
        "df3['Y_pred'] = model3.predict(df3[['months after March 1958']])\n",
        "# Plot the data and the linear regressions\n",
        "plt.plot(df2['months after March 1958'], df2['deseasonalized'], 'g', label='After cutoff')\n",
        "plt.plot(df3['months after March 1958'], df3['deseasonalized'], 'r', label='Before cutoff')\n",
        "plt.plot(df1['months after March 1958'], df1['Y_pred'], 'b--', label='Regression without cutoff')\n",
        "\n",
        "plt.axvline(x=cutoff, color='black', linestyle='--', label = 'Nov, 1985 Columbia Volcanic Eruption')\n",
        "# Add labels and a legend\n",
        "plt.xlabel('months after March 1958')\n",
        "plt.ylabel('Carbon Concentration (PPM)')\n",
        "plt.title('Carbon Concentration Overtime')\n",
        "plt.legend()\n",
        "\n",
        "# Show the plot\n",
        "plt.show()"
      ],
      "metadata": {
        "colab": {
          "base_uri": "https://localhost:8080/",
          "height": 512
        },
        "id": "Zce22HXfpepH",
        "outputId": "81ebaf62-5c09-46f6-dbea-9645596a6da8"
      },
      "execution_count": 7,
      "outputs": [
        {
          "output_type": "stream",
          "name": "stderr",
          "text": [
            "<ipython-input-7-12afa56e312d>:12: SettingWithCopyWarning: \n",
            "A value is trying to be set on a copy of a slice from a DataFrame.\n",
            "Try using .loc[row_indexer,col_indexer] = value instead\n",
            "\n",
            "See the caveats in the documentation: https://pandas.pydata.org/pandas-docs/stable/user_guide/indexing.html#returning-a-view-versus-a-copy\n",
            "  df2['Y_pred'] = model2.predict(df2[['months after March 1958']])\n",
            "<ipython-input-7-12afa56e312d>:13: SettingWithCopyWarning: \n",
            "A value is trying to be set on a copy of a slice from a DataFrame.\n",
            "Try using .loc[row_indexer,col_indexer] = value instead\n",
            "\n",
            "See the caveats in the documentation: https://pandas.pydata.org/pandas-docs/stable/user_guide/indexing.html#returning-a-view-versus-a-copy\n",
            "  df3['Y_pred'] = model3.predict(df3[['months after March 1958']])\n"
          ]
        },
        {
          "output_type": "display_data",
          "data": {
            "text/plain": [
              "<Figure size 432x288 with 1 Axes>"
            ],
            "image/png": "[encoded data removed]"
          },
          "metadata": {
            "needs_background": "light"
          }
        }
      ]
    }
  ]
}